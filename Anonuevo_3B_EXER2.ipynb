{
  "nbformat": 4,
  "nbformat_minor": 0,
  "metadata": {
    "colab": {
      "provenance": []
    },
    "kernelspec": {
      "name": "python3",
      "display_name": "Python 3"
    },
    "language_info": {
      "name": "python"
    }
  },
  "cells": [
    {
      "cell_type": "code",
      "execution_count": null,
      "metadata": {
        "id": "j-2KbPpWzNdA",
        "colab": {
          "base_uri": "https://localhost:8080/"
        },
        "outputId": "84db6127-0a72-46d5-cdd5-c8f0187892c1"
      },
      "outputs": [
        {
          "output_type": "stream",
          "name": "stdout",
          "text": [
            "Joint Probability:0.12\n",
            "Marginal Probability:0.58\n",
            "Conditional Probability:0.6\n"
          ]
        }
      ],
      "source": [
        "def joint_probability(p_A,P_B):\n",
        "  return p_A * p_B\n",
        "\n",
        "def marginal_probability(p_A, p_B):\n",
        "  return p_A + p_B - joint_probability(p_A, p_B)\n",
        "\n",
        "def conditional_probability(p_B_given_A, p_A, p_B):\n",
        "  return (p_B_given_A * p_A) / p_B\n",
        "\n",
        "# Example Usage\n",
        "p_A = 0.3 # Probability of Event A\n",
        "p_B = 0.4 # Porbability of event B\n",
        "p_B_given_A = 0.8 # Conditional Probability of B given A\n",
        "\n",
        "print(f\"Joint Probability:{joint_probability(p_A, p_B)}\")\n",
        "print(f\"Marginal Probability:{marginal_probability(p_A, p_B)}\")\n",
        "print(f\"Conditional Probability:{conditional_probability(p_B_given_A, p_A, p_B)}\")"
      ]
    },
    {
      "cell_type": "markdown",
      "source": [
        "ANSWER:\n",
        "# The A and B are independent Events, We can solve the A and B by using the formula p_A * p_B"
      ],
      "metadata": {
        "id": "eYkYnXS96tU7"
      }
    },
    {
      "cell_type": "markdown",
      "source": [
        "# EXERCISE 2\n"
      ],
      "metadata": {
        "id": "aCYne4uE4M_h"
      }
    },
    {
      "cell_type": "code",
      "source": [
        "import numpy as np\n",
        "\n",
        "def simulate_decision(num_simulation, p_success, reward_success, reward_failure):\n",
        "    outcomes = []\n",
        "    for _ in range(num_simulation):\n",
        "        if np.random.rand() < p_success:\n",
        "            outcomes.append(reward_success)\n",
        "        else:\n",
        "            outcomes.append(reward_failure)\n",
        "    return np.mean(outcomes)\n",
        "\n",
        "# Examples: Simulating 1000 decision attempts\n",
        "p_success = 0.7\n",
        "reward_success = 1000\n",
        "reward_failure = -500\n",
        "\n",
        "# Call the function with the correct number of simulations\n",
        "average_outcome = simulate_decision(1000, p_success, reward_success, reward_failure)\n",
        "print(f\"Expected value of decision: {average_outcome}\")"
      ],
      "metadata": {
        "id": "ytuz0fOv4UkI",
        "colab": {
          "base_uri": "https://localhost:8080/"
        },
        "outputId": "d4e341bc-e358-4c9a-bd15-ef7ce8a6d39b"
      },
      "execution_count": null,
      "outputs": [
        {
          "output_type": "stream",
          "name": "stdout",
          "text": [
            "Expected value of decision: 557.5\n"
          ]
        }
      ]
    },
    {
      "cell_type": "markdown",
      "source": [
        "EXERCISE #3"
      ],
      "metadata": {
        "id": "0XR4daGBBrsQ"
      }
    },
    {
      "cell_type": "code",
      "source": [
        "def bayesian_interface(prior, likelihood_given_disease, likelihood_positive):\n",
        "  posterior = (likelihood_given_disease * prior) / likelihood_positive\n",
        "  return posterior\n",
        "\n",
        "prior_disease = 0.01\n",
        "likelihood_given_disease = 0.9\n",
        "likelihood_positive = 0.5\n",
        "\n",
        "posterior_probability = bayesian_interface(prior_disease, likelihood_given_disease, likelihood_positive)\n",
        "print(f\"Posterior Probability of Disease: {posterior_probability}\")\n"
      ],
      "metadata": {
        "colab": {
          "base_uri": "https://localhost:8080/"
        },
        "id": "Eani6RPFBoVK",
        "outputId": "79d7cc0d-79dc-4fee-9c93-fa6a403dc32b"
      },
      "execution_count": null,
      "outputs": [
        {
          "output_type": "stream",
          "name": "stdout",
          "text": [
            "Posterior Probability of Disease: 0.018000000000000002\n"
          ]
        }
      ]
    },
    {
      "cell_type": "code",
      "source": [
        "import numpy as np\n",
        "import matplotlib.pyplot as plt\n",
        "\n",
        "n_trials =1000\n",
        "p_head = 0.5\n",
        "binomial_distribution = np.random.binomial(n=1, p=p_head, size=n_trials)\n",
        "\n",
        "plt.hist(binomial_distribution, bins=2)\n",
        "plt.title('Binomial Distribution')\n",
        "plt.show()\n"
      ],
      "metadata": {
        "colab": {
          "base_uri": "https://localhost:8080/",
          "height": 452
        },
        "id": "6NbEtS5FCEqD",
        "outputId": "b80b84d5-c1e0-4b46-a684-8d89dc9c8bb0"
      },
      "execution_count": null,
      "outputs": [
        {
          "output_type": "display_data",
          "data": {
            "text/plain": [
              "<Figure size 640x480 with 1 Axes>"
            ],
            "image/png": "[encoded data removed]"
          },
          "metadata": {}
        }
      ]
    },
    {
      "cell_type": "markdown",
      "source": [
        "EXERCISE #4"
      ],
      "metadata": {
        "id": "jVCeDPFVDHYe"
      }
    },
    {
      "cell_type": "code",
      "source": [
        "def conditional_probability(p_a_given_b, p_b, p_a):\n",
        "    return (p_a_given_b * p_b) / p_a\n",
        "\n",
        "p_purchase_given_cart = 0.4\n",
        "p_cart = 0.3\n",
        "\n",
        "p_purchase = conditional_probability(p_purchase_given_cart, p_cart, 0.3)\n",
        "print(f\"Probability of Purchase: {p_purchase:.4f}\")"
      ],
      "metadata": {
        "colab": {
          "base_uri": "https://localhost:8080/"
        },
        "id": "mL5nLeU2DGl4",
        "outputId": "a32fdc30-8362-43e1-ed91-00bc6d17acec"
      },
      "execution_count": 1,
      "outputs": [
        {
          "output_type": "stream",
          "name": "stdout",
          "text": [
            "Probability of Purchase: 0.4000\n"
          ]
        }
      ]
    }
  ]
}